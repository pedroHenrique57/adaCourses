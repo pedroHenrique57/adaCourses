{
 "cells": [
  {
   "cell_type": "code",
   "execution_count": null,
   "metadata": {},
   "outputs": [],
   "source": [
    "import pandas as pd"
   ]
  },
  {
   "cell_type": "code",
   "execution_count": null,
   "metadata": {},
   "outputs": [],
   "source": [
    "lista = [12, 23, 44, 55, 66, 77, 88, 99]\n",
    "\n",
    "serie_pandas = pd.Series(lista)"
   ]
  },
  {
   "cell_type": "code",
   "execution_count": null,
   "metadata": {},
   "outputs": [],
   "source": [
    "print(serie_pandas)"
   ]
  },
  {
   "cell_type": "code",
   "execution_count": null,
   "metadata": {},
   "outputs": [],
   "source": [
    "notas = { \"Thiago\" : 7.6, \"rammus\" : 9.6, \"carani\" : 8.2}\n",
    "\n",
    "serie_pandas_notas = pd.Series(notas)"
   ]
  },
  {
   "cell_type": "code",
   "execution_count": null,
   "metadata": {},
   "outputs": [],
   "source": [
    "print(serie_pandas_notas)\n",
    "print(\"---------------------------\")\n",
    "print( serie_pandas_notas[\"Thiago\"])\n",
    "print(\"---------------------------\")\n",
    "#  Tira a média de todas as notas\n",
    "print(serie_pandas_notas.mean())\n",
    "print(\"---------------------------\")\n",
    "#  Tira o valor do meio entre todos da lista\n",
    "print(serie_pandas_notas.median())\n",
    "print(\"---------------------------\")\n",
    "print(serie_pandas_notas.describe())"
   ]
  }
 ],
 "metadata": {
  "kernelspec": {
   "display_name": "Python 3",
   "language": "python",
   "name": "python3"
  },
  "language_info": {
   "codemirror_mode": {
    "name": "ipython",
    "version": 3
   },
   "file_extension": ".py",
   "mimetype": "text/x-python",
   "name": "python",
   "nbconvert_exporter": "python",
   "pygments_lexer": "ipython3",
   "version": "3.12.2"
  }
 },
 "nbformat": 4,
 "nbformat_minor": 2
}

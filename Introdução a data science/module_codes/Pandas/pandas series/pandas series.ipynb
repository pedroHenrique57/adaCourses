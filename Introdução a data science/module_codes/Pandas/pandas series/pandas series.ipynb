{
 "cells": [
  {
   "cell_type": "code",
   "execution_count": 2,
   "metadata": {},
   "outputs": [],
   "source": [
    "import pandas as pd"
   ]
  },
  {
   "cell_type": "code",
   "execution_count": 3,
   "metadata": {},
   "outputs": [],
   "source": [
    "lista = [12, 23, 44, 55, 66, 77, 88, 99]\n",
    "\n",
    "serie_pandas = pd.Series(lista)"
   ]
  },
  {
   "cell_type": "code",
   "execution_count": 4,
   "metadata": {},
   "outputs": [
    {
     "name": "stdout",
     "output_type": "stream",
     "text": [
      "0    12\n",
      "1    23\n",
      "2    44\n",
      "3    55\n",
      "4    66\n",
      "5    77\n",
      "6    88\n",
      "7    99\n",
      "dtype: int64\n"
     ]
    }
   ],
   "source": [
    "print(serie_pandas)"
   ]
  },
  {
   "cell_type": "code",
   "execution_count": 15,
   "metadata": {},
   "outputs": [],
   "source": [
    "notas = { \"Thiago\" : 7.6, \"rammus\" : 9.6, \"carani\" : 8.2}\n",
    "\n",
    "serie_pandas_notas = pd.Series(notas)"
   ]
  },
  {
   "cell_type": "code",
   "execution_count": 18,
   "metadata": {},
   "outputs": [
    {
     "name": "stdout",
     "output_type": "stream",
     "text": [
      "Thiago    7.6\n",
      "rammus    9.6\n",
      "carani    8.2\n",
      "dtype: float64\n",
      "---------------------------\n",
      "7.6\n",
      "---------------------------\n",
      "8.466666666666667\n",
      "---------------------------\n",
      "8.2\n",
      "---------------------------\n",
      "count    3.000000\n",
      "mean     8.466667\n",
      "std      1.026320\n",
      "min      7.600000\n",
      "25%      7.900000\n",
      "50%      8.200000\n",
      "75%      8.900000\n",
      "max      9.600000\n",
      "dtype: float64\n"
     ]
    }
   ],
   "source": [
    "print(serie_pandas_notas)\n",
    "print(\"---------------------------\")\n",
    "print( serie_pandas_notas[\"Thiago\"])\n",
    "print(\"---------------------------\")\n",
    "#  Tira a média de todas as notas\n",
    "print(serie_pandas_notas.mean())\n",
    "print(\"---------------------------\")\n",
    "#  Tira o valor do meio entre todos da lista\n",
    "print(serie_pandas_notas.median())\n",
    "print(\"---------------------------\")\n",
    "print(serie_pandas_notas.describe())"
   ]
  }
 ],
 "metadata": {
  "kernelspec": {
   "display_name": "Python 3",
   "language": "python",
   "name": "python3"
  },
  "language_info": {
   "codemirror_mode": {
    "name": "ipython",
    "version": 3
   },
   "file_extension": ".py",
   "mimetype": "text/x-python",
   "name": "python",
   "nbconvert_exporter": "python",
   "pygments_lexer": "ipython3",
   "version": "3.12.0"
  }
 },
 "nbformat": 4,
 "nbformat_minor": 2
}

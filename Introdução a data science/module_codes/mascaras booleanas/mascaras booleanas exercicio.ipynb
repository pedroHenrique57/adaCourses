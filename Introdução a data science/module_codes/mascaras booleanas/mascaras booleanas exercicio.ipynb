{
 "cells": [
  {
   "cell_type": "code",
   "execution_count": 27,
   "metadata": {},
   "outputs": [],
   "source": [
    "import numpy as np"
   ]
  },
  {
   "cell_type": "code",
   "execution_count": 28,
   "metadata": {},
   "outputs": [],
   "source": [
    "nomeTurma = \"\"\n",
    "alunos = []\n",
    "\n",
    "class turmaBuilder:\n",
    "    def __init__(self, nomeTurma, alunos):\n",
    "        self.nomeTurma = nomeTurma\n",
    "        self.alunos = alunos"
   ]
  },
  {
   "cell_type": "code",
   "execution_count": 29,
   "metadata": {},
   "outputs": [],
   "source": [
    "nome = \"\"\n",
    "notas = []\n",
    "\n",
    "class alunoBuilder:\n",
    "    def __init__(self, nome, notas): \n",
    "        self.nome = nome\n",
    "        self. notas = notas"
   ]
  },
  {
   "cell_type": "code",
   "execution_count": 30,
   "metadata": {},
   "outputs": [
    {
     "name": "stdout",
     "output_type": "stream",
     "text": [
      "jorge [4, 5, 6]\n",
      "fabiola [4, 4, 7]\n"
     ]
    }
   ],
   "source": [
    "jorge = alunoBuilder(\"jorge\", [4,5,6])\n",
    "fabiola = alunoBuilder(\"fabiola\", [4,4,7])\n",
    "\n",
    "alunosTurmaA = []\n",
    "\n",
    "alunosTurmaA.append(jorge)\n",
    "alunosTurmaA.append(fabiola)\n",
    "\n",
    "# for obj in alunosTurmaA:\n",
    "#     print(obj.nome, obj.notas, sep=' ')\n",
    "\n",
    "Turma_A = turmaBuilder(\"Turma A\", alunosTurmaA)\n",
    "\n",
    "for obj in Turma_A.alunos:\n",
    "    print(obj.nome, obj.notas, sep=' ')"
   ]
  },
  {
   "cell_type": "code",
   "execution_count": 41,
   "metadata": {},
   "outputs": [
    {
     "name": "stdout",
     "output_type": "stream",
     "text": [
      "jorge [4, 5, 6]\n",
      "Notas de corte (5+) = [4 7]\n",
      "fabiola [4, 4, 7]\n",
      "Notas de corte (5+) = [7]\n"
     ]
    }
   ],
   "source": [
    "# mask = notas >= 5\n",
    "\n",
    "for obj in Turma_A.alunos:\n",
    "    notasNP = np.array(obj.notas)\n",
    "    mask = notasNP >= 5\n",
    "    print(obj.nome, obj.notas, sep=' ')\n",
    "    print(\"Notas de corte (5+) = \" + format(notas[mask]))"
   ]
  }
 ],
 "metadata": {
  "kernelspec": {
   "display_name": "Python 3",
   "language": "python",
   "name": "python3"
  },
  "language_info": {
   "codemirror_mode": {
    "name": "ipython",
    "version": 3
   },
   "file_extension": ".py",
   "mimetype": "text/x-python",
   "name": "python",
   "nbconvert_exporter": "python",
   "pygments_lexer": "ipython3",
   "version": "3.12.0"
  }
 },
 "nbformat": 4,
 "nbformat_minor": 2
}
